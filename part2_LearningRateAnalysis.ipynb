{
  "cells": [
    {
      "cell_type": "markdown",
      "source": [
        "# Multiclass Classification Problem with CIFAR-10 Dataset - Learning Rate Analysis\n",
        "\n",
        "> **Part 01 of the Final Project - PPGEEC2318 Machine Learning**\n",
        "\n",
        "> **Graduate Program in Electrical and Computer Engineering - Department of Computer Engineering and Automation**\n",
        "\n",
        "> **Professor**: Ivanovitch M. Silva\n",
        "\n",
        "> **Students**:\n",
        ">> Leandro Roberto Silva Farias - 20251011748 \\\\\n",
        ">> Nicholas Medeiros Lopes - 20251011739"
      ],
      "metadata": {
        "id": "ioCHzytIJZXa"
      }
    },
    {
      "cell_type": "markdown",
      "source": [
        "# Dataset Description\n",
        "\n",
        "In this notebook, we'll be analyzing a subset of the **CIFAR-10 dataset** to develop a convolutional neural network (CNN) with PyTorch, aiming to classify images into one of three object categories: **airplane**, **automobile**, or **ship**.\n",
        "\n",
        "The **CIFAR-10** dataset is a well-known benchmark in computer vision, consisting of 60,000 color images (32×32 pixels) across 10 different classes. However, for the purposes of this project, we selected only the following 3 classes:\n",
        "\n",
        "- **Airplane**  \n",
        "- **Automobile**  \n",
        "- **Ship**  \n",
        "\n",
        "Each image is a small, low-resolution RGB photo, making this a good dataset for testing lightweight models and data augmentation strategies.\n",
        "\n",
        "The **target variable** is the class label of the image, encoded as:\n",
        "\n",
        "- **0 = Airplane**  \n",
        "- **1 = Automobile**  \n",
        "- **2 = Ship**  \n",
        "\n",
        "This setup characterizes a **multiclass classification problem with 3 classes**, rather than the full 10-class setup from the original dataset. The selected subset is **balanced**, with roughly equal numbers of samples per class.\n",
        "\n",
        "We'll preprocess the data, perform visualization, and train deep learning models to distinguish between these transport-related categories using visual cues.\n",
        "\n",
        "You can access the full dataset at [CIFAR-10 - Kaggle Dataset](https://www.kaggle.com/datasets/ayush1220/cifar10)."
      ],
      "metadata": {
        "id": "Si14Yk4wKmD4"
      }
    },
    {
      "cell_type": "markdown",
      "source": [
        "# Initial Steps"
      ],
      "metadata": {
        "id": "AuIPrqsdK1jQ"
      }
    },
    {
      "cell_type": "markdown",
      "source": [
        "## Libraries and Funtions"
      ],
      "metadata": {
        "id": "rbPSBVjDdJB1"
      }
    },
    {
      "cell_type": "code",
      "execution_count": null,
      "metadata": {
        "id": "CARnAuPPUWoj"
      },
      "outputs": [],
      "source": [
        "# Import standard libraries for randomness, deep copying, and numerical operations\n",
        "import random\n",
        "import numpy as np\n",
        "from copy import deepcopy\n",
        "\n",
        "# Import libraries for image processing and data manipulation\n",
        "from PIL import Image\n",
        "import pandas as pd\n",
        "\n",
        "# Import PyTorch core and utilities for deep learning\n",
        "import torch\n",
        "import torch.optim as optim  # Optimization algorithms\n",
        "import torch.nn as nn  # Neural network modules\n",
        "import torch.nn.functional as F  # Functional API for non-parametric operations\n",
        "\n",
        "# Import PyTorch utilities for data loading and transformations\n",
        "from torch.utils.data import DataLoader, Dataset, random_split, WeightedRandomSampler\n",
        "from torchvision.transforms.v2 import Compose, ToImage, Normalize, ToPILImage, Resize, ToDtype\n",
        "\n",
        "# Import dataset handling and learning rate schedulers\n",
        "from torchvision.datasets import ImageFolder\n",
        "from torch.optim.lr_scheduler import StepLR, ReduceLROnPlateau, MultiStepLR, CyclicLR, LambdaLR\n",
        "\n",
        "# Import visualization and web utilities\n",
        "import matplotlib.pyplot as plt\n",
        "import requests\n",
        "import zipfile\n",
        "import os\n",
        "import errno\n",
        "import kagglehub\n",
        "import seaborn as sns\n",
        "\n",
        "# Import model evaluation utilities\n",
        "from sklearn.metrics import confusion_matrix, precision_score, recall_score\n",
        "\n",
        "# Set matplotlib style for better visuals\n",
        "plt.style.use('fivethirtyeight')"
      ]
    },
    {
      "cell_type": "code",
      "execution_count": null,
      "metadata": {
        "id": "Kj1Ihr4Q9Tuo"
      },
      "outputs": [],
      "source": [
        "def plot_confusion_matrix(architecture, data_loader, class_names):\n",
        "    \"\"\"\n",
        "    Computes and plots the confusion matrix.\n",
        "\n",
        "    Args:\n",
        "        architecture (Architecture): The trained Architecture object.\n",
        "        data_loader (DataLoader): The DataLoader for the validation data.\n",
        "        class_names (list): A list of class names.\n",
        "    \"\"\"\n",
        "    architecture.model.eval()  # Set model to evaluation mode\n",
        "    all_labels = []\n",
        "    all_predictions = []\n",
        "    with torch.no_grad():\n",
        "        for x_batch, y_batch in data_loader:\n",
        "            x_batch = x_batch.to(architecture.device)\n",
        "            y_batch = y_batch.to(architecture.device)\n",
        "            yhat = architecture.model(x_batch)\n",
        "\n",
        "            if yhat.shape[1] > 1:\n",
        "                _, predicted = torch.max(yhat, 1)\n",
        "            else:\n",
        "                predicted = (torch.sigmoid(yhat) > 0.5).long()\n",
        "\n",
        "            all_labels.extend(y_batch.cpu().numpy())\n",
        "            all_predictions.extend(predicted.cpu().numpy())\n",
        "\n",
        "    cm = confusion_matrix(all_labels, all_predictions)\n",
        "\n",
        "    plt.figure(figsize=(8, 6))\n",
        "    sns.heatmap(cm, annot=True, fmt='d', cmap='Blues', xticklabels=class_names, yticklabels=class_names)\n",
        "    plt.xlabel('Predicted Label')\n",
        "    plt.ylabel('True Label')\n",
        "    plt.title('Confusion Matrix')\n",
        "    plt.show()\n"
      ]
    },
    {
      "cell_type": "markdown",
      "metadata": {
        "id": "d0zbtOV2Vblr"
      },
      "source": [
        "## Architecture Class"
      ]
    },
    {
      "cell_type": "code",
      "execution_count": null,
      "metadata": {
        "id": "3ApHQa16Ve4Q"
      },
      "outputs": [],
      "source": [
        "class Architecture(object):\n",
        "    def __init__(self, model, loss_fn, optimizer):\n",
        "        # Here we define the attributes of our class\n",
        "\n",
        "        # We start by storing the arguments as attributes\n",
        "        # to use them later\n",
        "        self.model = model\n",
        "        self.loss_fn = loss_fn\n",
        "        self.optimizer = optimizer\n",
        "        self.device = 'cuda' if torch.cuda.is_available() else 'cpu'\n",
        "        # Let's send the model to the specified device right away\n",
        "        self.model.to(self.device)\n",
        "\n",
        "        # These attributes are defined here, but since they are\n",
        "        # not informed at the moment of creation, we keep them None\n",
        "        self.train_loader = None\n",
        "        self.val_loader = None\n",
        "\n",
        "        # These attributes are going to be computed internally\n",
        "        self.losses = []\n",
        "        self.val_losses = []\n",
        "        self.total_epochs = 0\n",
        "\n",
        "        # Creates the train_step function for our model,\n",
        "        # loss function and optimizer\n",
        "        # Note: there are NO ARGS there! It makes use of the class\n",
        "        # attributes directly\n",
        "        self.train_step_fn = self._make_train_step_fn()\n",
        "        # Creates the val_step function for our model and loss\n",
        "        self.val_step_fn = self._make_val_step_fn()\n",
        "\n",
        "        # for hook purposes\n",
        "        self.handles = {}\n",
        "        self.visualization = {}\n",
        "\n",
        "    def to(self, device):\n",
        "        # This method allows the user to specify a different device\n",
        "        # It sets the corresponding attribute (to be used later in\n",
        "        # the mini-batches) and sends the model to the device\n",
        "        try:\n",
        "            self.device = device\n",
        "            self.model.to(self.device)\n",
        "        except RuntimeError:\n",
        "            self.device = 'cuda' if torch.cuda.is_available() else 'cpu'\n",
        "            print(f\"Couldn't send it to {device}, sending it to {self.device} instead.\")\n",
        "            self.model.to(self.device)\n",
        "\n",
        "    def set_loaders(self, train_loader, val_loader=None):\n",
        "        # This method allows the user to define which train_loader (and val_loader, optionally) to use\n",
        "        # Both loaders are then assigned to attributes of the class\n",
        "        # So they can be referred to later\n",
        "        self.train_loader = train_loader\n",
        "        self.val_loader = val_loader\n",
        "\n",
        "    def _make_train_step_fn(self):\n",
        "        # This method does not need ARGS... it can refer to\n",
        "        # the attributes: self.model, self.loss_fn and self.optimizer\n",
        "\n",
        "        # Builds function that performs a step in the train loop\n",
        "        def perform_train_step_fn(x, y):\n",
        "            # Sets model to TRAIN mode\n",
        "            self.model.train()\n",
        "\n",
        "            # Step 1 - Computes our model's predicted output - forward pass\n",
        "            yhat = self.model(x)\n",
        "            # Step 2 - Computes the loss\n",
        "            loss = self.loss_fn(yhat, y)\n",
        "            # Step 3 - Computes gradients for both \"a\" and \"b\" parameters\n",
        "            loss.backward()\n",
        "            # Step 4 - Updates parameters using gradients and the learning rate\n",
        "            self.optimizer.step()\n",
        "            self.optimizer.zero_grad()\n",
        "\n",
        "            # Returns the loss\n",
        "            return loss.item()\n",
        "\n",
        "        # Returns the function that will be called inside the train loop\n",
        "        return perform_train_step_fn\n",
        "\n",
        "    def _make_val_step_fn(self):\n",
        "        # Builds function that performs a step in the validation loop\n",
        "        def perform_val_step_fn(x, y):\n",
        "            # Sets model to EVAL mode\n",
        "            self.model.eval()\n",
        "\n",
        "            # Step 1 - Computes our model's predicted output - forward pass\n",
        "            yhat = self.model(x)\n",
        "            # Step 2 - Computes the loss\n",
        "            loss = self.loss_fn(yhat, y)\n",
        "            # There is no need to compute Steps 3 and 4, since we don't update parameters during evaluation\n",
        "            return loss.item()\n",
        "\n",
        "        return perform_val_step_fn\n",
        "\n",
        "    def _mini_batch(self, validation=False):\n",
        "        # The mini-batch can be used with both loaders\n",
        "        # The argument `validation`defines which loader and\n",
        "        # corresponding step function is going to be used\n",
        "        if validation:\n",
        "            data_loader = self.val_loader\n",
        "            step_fn = self.val_step_fn\n",
        "        else:\n",
        "            data_loader = self.train_loader\n",
        "            step_fn = self.train_step_fn\n",
        "\n",
        "        if data_loader is None:\n",
        "            return None\n",
        "\n",
        "        # Once the data loader and step function, this is the same\n",
        "        # mini-batch loop we had before\n",
        "        mini_batch_losses = []\n",
        "        for x_batch, y_batch in data_loader:\n",
        "            x_batch = x_batch.to(self.device)\n",
        "            y_batch = y_batch.to(self.device)\n",
        "\n",
        "            mini_batch_loss = step_fn(x_batch, y_batch)\n",
        "            mini_batch_losses.append(mini_batch_loss)\n",
        "\n",
        "        loss = np.mean(mini_batch_losses)\n",
        "        return loss\n",
        "\n",
        "    # this function was updated in this class\n",
        "    def set_seed(self, seed=42):\n",
        "        torch.backends.cudnn.deterministic = True\n",
        "        torch.backends.cudnn.benchmark = False\n",
        "        torch.manual_seed(seed)\n",
        "        np.random.seed(seed)\n",
        "        random.seed(seed)\n",
        "        try:\n",
        "            self.train_loader.sampler.generator.manual_seed(seed)\n",
        "        except AttributeError:\n",
        "            pass\n",
        "\n",
        "    def train(self, n_epochs, seed=42):\n",
        "        self.set_seed(seed)\n",
        "\n",
        "        for epoch in range(n_epochs):\n",
        "            self.total_epochs += 1\n",
        "\n",
        "            # Perform training step\n",
        "            loss = self._mini_batch(validation=False)\n",
        "            self.losses.append(loss)\n",
        "\n",
        "            # Print the training loss after each epoch\n",
        "            print(f\"Epoch {epoch + 1}/{n_epochs} - Training Loss: {loss:.4f}\")\n",
        "\n",
        "            # Perform validation step (no gradients)\n",
        "            with torch.no_grad():\n",
        "                val_loss = self._mini_batch(validation=True)\n",
        "                self.val_losses.append(val_loss)\n",
        "\n",
        "            # Print the validation loss after each epoch\n",
        "            print(f\"Epoch {epoch + 1}/{n_epochs} - Validation Loss: {val_loss:.4f}\")\n",
        "\n",
        "    def save_checkpoint(self, filename):\n",
        "        # Builds dictionary with all elements for resuming training\n",
        "        checkpoint = {'epoch': self.total_epochs,\n",
        "                      'model_state_dict': self.model.state_dict(),\n",
        "                      'optimizer_state_dict': self.optimizer.state_dict(),\n",
        "                      'loss': self.losses,\n",
        "                      'val_loss': self.val_losses}\n",
        "\n",
        "        torch.save(checkpoint, filename)\n",
        "\n",
        "    def load_checkpoint(self, filename):\n",
        "        # Loads dictionary\n",
        "        checkpoint = torch.load(filename)\n",
        "\n",
        "        # Restore state for model and optimizer\n",
        "        self.model.load_state_dict(checkpoint['model_state_dict'])\n",
        "        self.optimizer.load_state_dict(checkpoint['optimizer_state_dict'])\n",
        "\n",
        "        self.total_epochs = checkpoint['epoch']\n",
        "        self.losses = checkpoint['loss']\n",
        "        self.val_losses = checkpoint['val_loss']\n",
        "\n",
        "        self.model.train() # always use TRAIN for resuming training\n",
        "\n",
        "    def predict(self, x):\n",
        "        # Set is to evaluation mode for predictions\n",
        "        self.model.eval()\n",
        "        # Takes aNumpy input and make it a float tensor\n",
        "        x_tensor = torch.as_tensor(x).float()\n",
        "        # Send input to device and uses model for prediction\n",
        "        y_hat_tensor = self.model(x_tensor.to(self.device))\n",
        "        # Set it back to train mode\n",
        "        self.model.train()\n",
        "        # Detaches it, brings it to CPU and back to Numpy\n",
        "        return y_hat_tensor.detach().cpu().numpy()\n",
        "\n",
        "    def count_parameters(self):\n",
        "      return sum(p.numel() for p in self.model.parameters() if p.requires_grad)\n",
        "\n",
        "    def plot_losses(self):\n",
        "        fig = plt.figure(figsize=(10, 4))\n",
        "        plt.plot(self.losses, label='Training Loss', c='b')\n",
        "        plt.plot(self.val_losses, label='Validation Loss', c='r')\n",
        "        plt.yscale('log')\n",
        "        plt.xlabel('Epochs')\n",
        "        plt.ylabel('Loss')\n",
        "        plt.legend()\n",
        "        plt.tight_layout()\n",
        "        return fig\n",
        "\n",
        "    @staticmethod\n",
        "    def _visualize_tensors(axs, x, y=None, yhat=None, layer_name='', title=None):\n",
        "        # The number of images is the number of subplots in a row\n",
        "        n_images = len(axs)\n",
        "        # Gets max and min values for scaling the grayscale\n",
        "        minv, maxv = np.min(x[:n_images]), np.max(x[:n_images])\n",
        "        # For each image\n",
        "        for j, image in enumerate(x[:n_images]):\n",
        "            ax = axs[j]\n",
        "            # Sets title, labels, and removes ticks\n",
        "            if title is not None:\n",
        "                ax.set_title(f'{title} #{j}', fontsize=12)\n",
        "            shp = np.atleast_2d(image).shape\n",
        "            ax.set_ylabel(\n",
        "                f'{layer_name}\\n{shp[0]}x{shp[1]}',\n",
        "                rotation=0, labelpad=40\n",
        "            )\n",
        "            xlabel1 = '' if y is None else f'\\nLabel: {y[j]}'\n",
        "            xlabel2 = '' if yhat is None else f'\\nPredicted: {yhat[j]}'\n",
        "            xlabel = f'{xlabel1}{xlabel2}'\n",
        "            if len(xlabel):\n",
        "                ax.set_xlabel(xlabel, fontsize=12)\n",
        "            ax.set_xticks([])\n",
        "            ax.set_yticks([])\n",
        "\n",
        "            # Plots weight as an image\n",
        "            ax.imshow(\n",
        "                np.atleast_2d(image.squeeze()),\n",
        "                cmap='gray',\n",
        "                vmin=minv,\n",
        "                vmax=maxv\n",
        "            )\n",
        "        return\n",
        "\n",
        "    def visualize_filters(self, layer_name, **kwargs):\n",
        "        try:\n",
        "            # Gets the layer object from the model\n",
        "            layer = self.model\n",
        "            for name in layer_name.split('.'):\n",
        "                layer = getattr(layer, name)\n",
        "            # We are only looking at filters for 2D convolutions\n",
        "            if isinstance(layer, nn.Conv2d):\n",
        "                # Takes the weight information\n",
        "                weights = layer.weight.data.cpu().numpy()\n",
        "                # weights -> (channels_out (filter), channels_in, H, W)\n",
        "                n_filters, n_channels, _, _ = weights.shape\n",
        "\n",
        "                # Builds a figure\n",
        "                size = (2 * n_channels + 2, 2 * n_filters)\n",
        "                fig, axes = plt.subplots(n_filters, n_channels,\n",
        "                                        figsize=size)\n",
        "                axes = np.atleast_2d(axes)\n",
        "                axes = axes.reshape(n_filters, n_channels)\n",
        "                # For each channel_out (filter)\n",
        "                for i in range(n_filters):\n",
        "                    Architecture._visualize_tensors(\n",
        "                        axes[i, :],\n",
        "                        weights[i],\n",
        "                        layer_name=f'Filter #{i}',\n",
        "                        title='Channel'\n",
        "                    )\n",
        "\n",
        "                for ax in axes.flat:\n",
        "                    ax.label_outer()\n",
        "\n",
        "                fig.tight_layout()\n",
        "                return fig\n",
        "        except AttributeError:\n",
        "            return\n",
        "\n",
        "    def attach_hooks(self, layers_to_hook, hook_fn=None):\n",
        "        # Clear any previous values\n",
        "        self.visualization = {}\n",
        "        # Creates the dictionary to map layer objects to their names\n",
        "        modules = list(self.model.named_modules())\n",
        "        layer_names = {layer: name for name, layer in modules[1:]}\n",
        "\n",
        "        if hook_fn is None:\n",
        "            # Hook function to be attached to the forward pass\n",
        "            def hook_fn(layer, inputs, outputs):\n",
        "                # Gets the layer name\n",
        "                name = layer_names[layer]\n",
        "                # Detaches outputs\n",
        "                values = outputs.detach().cpu().numpy()\n",
        "                # Since the hook function may be called multiple times\n",
        "                # for example, if we make predictions for multiple mini-batches\n",
        "                # it concatenates the results\n",
        "                if self.visualization[name] is None:\n",
        "                    self.visualization[name] = values\n",
        "                else:\n",
        "                    self.visualization[name] = np.concatenate([self.visualization[name], values])\n",
        "\n",
        "        for name, layer in modules:\n",
        "            # If the layer is in our list\n",
        "            if name in layers_to_hook:\n",
        "                # Initializes the corresponding key in the dictionary\n",
        "                self.visualization[name] = None\n",
        "                # Register the forward hook and keep the handle in another dict\n",
        "                self.handles[name] = layer.register_forward_hook(hook_fn)\n",
        "\n",
        "    def remove_hooks(self):\n",
        "        # Loops through all hooks and removes them\n",
        "        for handle in self.handles.values():\n",
        "            handle.remove()\n",
        "        # Clear the dict, as all hooks have been removed\n",
        "        self.handles = {}\n",
        "\n",
        "    def visualize_outputs(self, layers, n_images=10, y=None, yhat=None):\n",
        "        layers = filter(lambda l: l in self.visualization.keys(), layers)\n",
        "        layers = list(layers)\n",
        "        shapes = [self.visualization[layer].shape for layer in layers]\n",
        "        n_rows = [shape[1] if len(shape) == 4 else 1\n",
        "                  for shape in shapes]\n",
        "        total_rows = np.sum(n_rows)\n",
        "\n",
        "        fig, axes = plt.subplots(total_rows, n_images,\n",
        "                                figsize=(1.5*n_images, 1.5*total_rows))\n",
        "        axes = np.atleast_2d(axes).reshape(total_rows, n_images)\n",
        "\n",
        "        # Loops through the layers, one layer per row of subplots\n",
        "        row = 0\n",
        "        for i, layer in enumerate(layers):\n",
        "            start_row = row\n",
        "            # Takes the produced feature maps for that layer\n",
        "            output = self.visualization[layer]\n",
        "\n",
        "            is_vector = len(output.shape) == 2\n",
        "\n",
        "            for j in range(n_rows[i]):\n",
        "                Architecture._visualize_tensors(\n",
        "                    axes[row, :],\n",
        "                    output if is_vector else output[:, j].squeeze(),\n",
        "                    y,\n",
        "                    yhat,\n",
        "                    layer_name=layers[i] \\\n",
        "                              if is_vector \\\n",
        "                              else f'{layers[i]}\\nfil#{row-start_row}',\n",
        "                    title='Image' if (row == 0) else None\n",
        "                )\n",
        "                row += 1\n",
        "\n",
        "        for ax in axes.flat:\n",
        "            ax.label_outer()\n",
        "\n",
        "        plt.tight_layout()\n",
        "        return fig\n",
        "\n",
        "    def correct(self, x, y, threshold=.5):\n",
        "        self.model.eval()\n",
        "        yhat = self.model(x.to(self.device))\n",
        "        y = y.to(self.device)\n",
        "        self.model.train()\n",
        "\n",
        "        # We get the size of the batch and the number of classes\n",
        "        # (only 1, if it is binary)\n",
        "        n_samples, n_dims = yhat.shape\n",
        "        if n_dims > 1:\n",
        "            # In a multiclass classification, the biggest logit\n",
        "            # always wins, so we don't bother getting probabilities\n",
        "\n",
        "            # This is PyTorch's version of argmax,\n",
        "            # but it returns a tuple: (max value, index of max value)\n",
        "            _, predicted = torch.max(yhat, 1)\n",
        "        else:\n",
        "            n_dims += 1\n",
        "            # In binary classification, we NEED to check if the\n",
        "            # last layer is a sigmoid (and then it produces probs)\n",
        "            if isinstance(self.model, nn.Sequential) and \\\n",
        "              isinstance(self.model[-1], nn.Sigmoid):\n",
        "                predicted = (yhat > threshold).long()\n",
        "            # or something else (logits), which we need to convert\n",
        "            # using a sigmoid\n",
        "            else:\n",
        "                predicted = (F.sigmoid(yhat) > threshold).long()\n",
        "\n",
        "        # How many samples got classified correctly for each class\n",
        "        result = []\n",
        "        for c in range(n_dims):\n",
        "            n_class = (y == c).sum().item()\n",
        "            n_correct = (predicted[y == c] == c).sum().item()\n",
        "            result.append((n_correct, n_class))\n",
        "        return torch.tensor(result)\n",
        "\n",
        "\n",
        "    @staticmethod\n",
        "    def loader_apply(loader, func, reduce='sum'):\n",
        "        results = [func(x, y) for i, (x, y) in enumerate(loader)]\n",
        "        results = torch.stack(results, axis=0)\n",
        "\n",
        "        if reduce == 'sum':\n",
        "            results = results.sum(axis=0)\n",
        "        elif reduce == 'mean':\n",
        "            results = results.float().mean(axis=0)\n",
        "\n",
        "        return results\n",
        "\n",
        "    @staticmethod\n",
        "    def statistics_per_channel(images, labels):\n",
        "        # NCHW\n",
        "        n_samples, n_channels, n_height, n_weight = images.size()\n",
        "        # Flatten HW into a single dimension\n",
        "        flatten_per_channel = images.reshape(n_samples, n_channels, -1)\n",
        "\n",
        "        # Computes statistics of each image per channel\n",
        "        # Average pixel value per channel\n",
        "        # (n_samples, n_channels)\n",
        "        means = flatten_per_channel.mean(axis=2)\n",
        "        # Standard deviation of pixel values per channel\n",
        "        # (n_samples, n_channels)\n",
        "        stds = flatten_per_channel.std(axis=2)\n",
        "\n",
        "        # Adds up statistics of all images in a mini-batch\n",
        "        # (1, n_channels)\n",
        "        sum_means = means.sum(axis=0)\n",
        "        sum_stds = stds.sum(axis=0)\n",
        "        # Makes a tensor of shape (1, n_channels)\n",
        "        # with the number of samples in the mini-batch\n",
        "        n_samples = torch.tensor([n_samples]*n_channels).float()\n",
        "\n",
        "        # Stack the three tensors on top of one another\n",
        "        # (3, n_channels)\n",
        "        return torch.stack([n_samples, sum_means, sum_stds], axis=0)\n",
        "\n",
        "    @staticmethod\n",
        "    def make_normalizer(loader):\n",
        "        total_samples, total_means, total_stds = Architecture.loader_apply(loader, Architecture.statistics_per_channel)\n",
        "        norm_mean = total_means / total_samples\n",
        "        norm_std = total_stds / total_samples\n",
        "        return Normalize(mean=norm_mean, std=norm_std)\n",
        "\n",
        "    def lr_range_test(self, data_loader, end_lr, num_iter=100, step_mode='exp', alpha=0.05, ax=None):\n",
        "        # Since the test updates both model and optimizer we need to store\n",
        "        # their initial states to restore them in the end\n",
        "        previous_states = {'model': deepcopy(self.model.state_dict()),\n",
        "                          'optimizer': deepcopy(self.optimizer.state_dict())}\n",
        "        # Retrieves the learning rate set in the optimizer\n",
        "        start_lr = self.optimizer.state_dict()['param_groups'][0]['lr']\n",
        "\n",
        "        # Builds a custom function and corresponding scheduler\n",
        "        lr_fn = make_lr_fn(start_lr, end_lr, num_iter)\n",
        "        scheduler = LambdaLR(self.optimizer, lr_lambda=lr_fn)\n",
        "\n",
        "        # Variables for tracking results and iterations\n",
        "        tracking = {'loss': [], 'lr': []}\n",
        "        iteration = 0\n",
        "\n",
        "        # If there are more iterations than mini-batches in the data loader,\n",
        "        # it will have to loop over it more than once\n",
        "        while (iteration < num_iter):\n",
        "            # That's the typical mini-batch inner loop\n",
        "            for x_batch, y_batch in data_loader:\n",
        "                x_batch = x_batch.to(self.device)\n",
        "                y_batch = y_batch.to(self.device)\n",
        "                # Step 1\n",
        "                yhat = self.model(x_batch)\n",
        "                # Step 2\n",
        "                loss = self.loss_fn(yhat, y_batch)\n",
        "                # Step 3\n",
        "                loss.backward()\n",
        "\n",
        "                # Here we keep track of the losses (smoothed)\n",
        "                # and the learning rates\n",
        "                tracking['lr'].append(scheduler.get_last_lr()[0])\n",
        "                if iteration == 0:\n",
        "                    tracking['loss'].append(loss.item())\n",
        "                else:\n",
        "                    prev_loss = tracking['loss'][-1]\n",
        "                    smoothed_loss = alpha * loss.item() + (1-alpha) * prev_loss\n",
        "                    tracking['loss'].append(smoothed_loss)\n",
        "\n",
        "                iteration += 1\n",
        "                # Number of iterations reached\n",
        "                if iteration == num_iter:\n",
        "                    break\n",
        "\n",
        "                # Step 4\n",
        "                self.optimizer.step()\n",
        "                scheduler.step()\n",
        "                self.optimizer.zero_grad()\n",
        "\n",
        "        # Restores the original states\n",
        "        self.optimizer.load_state_dict(previous_states['optimizer'])\n",
        "        self.model.load_state_dict(previous_states['model'])\n",
        "\n",
        "        if ax is None:\n",
        "            fig, ax = plt.subplots(1, 1, figsize=(6, 4))\n",
        "        else:\n",
        "            fig = ax.get_figure()\n",
        "        ax.plot(tracking['lr'], tracking['loss'])\n",
        "        if step_mode == 'exp':\n",
        "            ax.set_xscale('log')\n",
        "        ax.set_xlabel('Learning Rate')\n",
        "        ax.set_ylabel('Loss')\n",
        "        fig.tight_layout()\n",
        "        return tracking, fig\n",
        "\n",
        "    def set_optimizer(self, optimizer):\n",
        "        self.optimizer = optimizer"
      ]
    },
    {
      "cell_type": "code",
      "execution_count": null,
      "metadata": {
        "id": "YTi_eIiOWSiw"
      },
      "outputs": [],
      "source": [
        "class CNN2(nn.Module):\n",
        "    def __init__(self, n_feature, p=0.0):\n",
        "        super(CNN2, self).__init__()\n",
        "        self.n_feature = n_feature\n",
        "        self.p = p\n",
        "        # Creates the convolution layers\n",
        "        self.conv1 = nn.Conv2d(in_channels=3,\n",
        "                               out_channels=n_feature,\n",
        "                               kernel_size=3)\n",
        "        self.conv2 = nn.Conv2d(in_channels=n_feature,\n",
        "                               out_channels=n_feature,\n",
        "                               kernel_size=3)\n",
        "        # Creates the linear layers\n",
        "        # Where do this 5 * 5 come from?! Check it below\n",
        "        self.fc1 = nn.Linear(n_feature * 5 * 5, 50)\n",
        "        self.fc2 = nn.Linear(50, 3)\n",
        "        #self.fc2 = nn.Linear(50, 10)\n",
        "        # Creates dropout layers\n",
        "        self.drop = nn.Dropout(self.p)\n",
        "\n",
        "    def featurizer(self, x):\n",
        "        # Featurizer\n",
        "        # First convolutional block\n",
        "        # 3@28x28 -> n_feature@26x26 -> n_feature@13x13\n",
        "        x = self.conv1(x)\n",
        "        x = F.relu(x)\n",
        "        x = F.max_pool2d(x, kernel_size=2)\n",
        "        # Second convolutional block\n",
        "        # n_feature * @13x13 -> n_feature@11x11 -> n_feature@5x5\n",
        "        x = self.conv2(x)\n",
        "        x = F.relu(x)\n",
        "        x = F.max_pool2d(x, kernel_size=2)\n",
        "        # Input dimension (n_feature@5x5)\n",
        "        # Output dimension (n_feature * 5 * 5)\n",
        "        x = nn.Flatten()(x)\n",
        "        return x\n",
        "\n",
        "    def classifier(self, x):\n",
        "        # Classifier\n",
        "        # Hidden Layer\n",
        "        # Input dimension (n_feature * 5 * 5)\n",
        "        # Output dimension (50)\n",
        "        if self.p > 0:\n",
        "            x = self.drop(x)\n",
        "        x = self.fc1(x)\n",
        "        x = F.relu(x)\n",
        "        # Output Layer\n",
        "        # Input dimension (50)\n",
        "        # Output dimension (3)\n",
        "        if self.p > 0:\n",
        "            x = self.drop(x)\n",
        "        x = self.fc2(x)\n",
        "        return x\n",
        "\n",
        "    def forward(self, x):\n",
        "        x = self.featurizer(x)\n",
        "        x = self.classifier(x)\n",
        "        return x"
      ]
    },
    {
      "cell_type": "markdown",
      "source": [
        "# Dataset (Import and Preprocessing)"
      ],
      "metadata": {
        "id": "wMOSAvOYK5j8"
      }
    },
    {
      "cell_type": "markdown",
      "metadata": {
        "id": "XA5jEuoWW7SE"
      },
      "source": [
        "## Data Generation"
      ]
    },
    {
      "cell_type": "code",
      "execution_count": null,
      "metadata": {
        "id": "XplAa3i20DEj"
      },
      "outputs": [],
      "source": [
        "with zipfile.ZipFile(\"cifar10_subset.zip\", 'r') as zip_ref:\n",
        "        zip_ref.extractall('')"
      ]
    },
    {
      "cell_type": "code",
      "execution_count": null,
      "metadata": {
        "id": "zp6VlZDeg6lF",
        "colab": {
          "base_uri": "https://localhost:8080/"
        },
        "outputId": "d3fc178e-4e52-4136-dae9-57da467f74ae"
      },
      "outputs": [
        {
          "output_type": "stream",
          "name": "stdout",
          "text": [
            "Path to dataset files for training: cifar10_subset/train\n"
          ]
        }
      ],
      "source": [
        "path_train = 'cifar10_subset/train'\n",
        "print(\"Path to dataset files for training:\", path_train)"
      ]
    },
    {
      "cell_type": "code",
      "execution_count": null,
      "metadata": {
        "id": "QALi9npEjgvA",
        "colab": {
          "base_uri": "https://localhost:8080/"
        },
        "outputId": "2fb7c221-8f09-497c-8f6e-421f514483fb"
      },
      "outputs": [
        {
          "output_type": "stream",
          "name": "stdout",
          "text": [
            "Path to dataset files for test: cifar10_subset/test\n"
          ]
        }
      ],
      "source": [
        "path_test = 'cifar10_subset/test'\n",
        "print(\"Path to dataset files for test:\", path_test)"
      ]
    },
    {
      "cell_type": "code",
      "execution_count": null,
      "metadata": {
        "id": "EbmWaiEMg0Ig"
      },
      "outputs": [],
      "source": [
        "def figure1(folder=path_train):\n",
        "    airplane = Image.open(f'{folder}/airplane/0001.png')\n",
        "    automobile = Image.open(f'{folder}/automobile/0001.png')\n",
        "    ship = Image.open(f'{folder}/ship/0001.png')\n",
        "\n",
        "    images = [airplane, automobile, ship]\n",
        "    titles = ['Airplane', 'Automobile', 'Ship']\n",
        "\n",
        "    fig, axs = plt.subplots(1, 3, figsize=(12, 5))\n",
        "    for ax, image, title in zip(axs, images, titles):\n",
        "        ax.imshow(image)\n",
        "        ax.set_xticks([])\n",
        "        ax.set_yticks([])\n",
        "        ax.set_title(title)\n",
        "\n",
        "    return fig"
      ]
    },
    {
      "cell_type": "code",
      "execution_count": null,
      "metadata": {
        "id": "5HRSeGiad79T",
        "colab": {
          "base_uri": "https://localhost:8080/"
        },
        "outputId": "018af711-fc8e-4606-a516-8193b262f705"
      },
      "outputs": [
        {
          "output_type": "display_data",
          "data": {
            "text/plain": [
              "<Figure size 1200x500 with 3 Axes>"
            ],
            "image/png": "[encoded data removed]"
          },
          "metadata": {}
        }
      ],
      "source": [
        "fig = figure1()"
      ]
    },
    {
      "cell_type": "markdown",
      "metadata": {
        "id": "WJuYyEONjIfs"
      },
      "source": [
        "## Data Preparation"
      ]
    },
    {
      "cell_type": "markdown",
      "metadata": {
        "id": "ivqNfTLejuDr"
      },
      "source": [
        "### Image Folder"
      ]
    },
    {
      "cell_type": "code",
      "execution_count": null,
      "metadata": {
        "id": "FlRZ4qxejKKa"
      },
      "outputs": [],
      "source": [
        "# Compose a sequence of preprocessing transforms\n",
        "# 1) Resize images to 28×28 pixels\n",
        "# 2) Ensure output is a PIL/torchvision Image (dropping any alpha channel)\n",
        "# 3) Convert pixel values to float32 and scale from [0–255] to [0.0–1.0]\n",
        "temp_transform = Compose([\n",
        "    Resize(28),                        # Resize each image to 28×28\n",
        "    ToImage(),                         # Convert tensor back to PIL Image (enforces RGB)\n",
        "    ToDtype(torch.float32, scale=True) # Cast to float32 and normalize pixel range\n",
        "])\n",
        "\n",
        "# Create an ImageFolder dataset from the 'rps' directory\n",
        "# Images are grouped by subfolder name as class labels, and each image is transformed\n",
        "temp_dataset = ImageFolder(\n",
        "    root=path_train,\n",
        "    transform=temp_transform          # Apply the preprocessing pipeline to every image\n",
        ")"
      ]
    },
    {
      "cell_type": "code",
      "execution_count": null,
      "metadata": {
        "id": "1jUv5gn0j5LE",
        "colab": {
          "base_uri": "https://localhost:8080/"
        },
        "outputId": "ca0df75f-34d3-4f8b-d8c4-3396a87da04d"
      },
      "outputs": [
        {
          "output_type": "execute_result",
          "data": {
            "text/plain": [
              "(torch.Size([3, 28, 28]), 0)"
            ]
          },
          "metadata": {},
          "execution_count": 11
        }
      ],
      "source": [
        "# the second element of this tuple is the label\n",
        "temp_dataset[0][0].shape, temp_dataset[0][1]"
      ]
    },
    {
      "cell_type": "code",
      "execution_count": null,
      "metadata": {
        "id": "zE6j6n4BkAhh",
        "colab": {
          "base_uri": "https://localhost:8080/"
        },
        "outputId": "2bbe1e8d-f469-4f70-d008-466141125a9e"
      },
      "outputs": [
        {
          "output_type": "execute_result",
          "data": {
            "text/plain": [
              "Image([[[0.7961, 0.8000, 0.8078,  ..., 0.8157, 0.8118, 0.8000],\n",
              "        [0.8118, 0.8118, 0.8196,  ..., 0.8314, 0.8235, 0.8118],\n",
              "        [0.8275, 0.8314, 0.8392,  ..., 0.8510, 0.8431, 0.8314],\n",
              "        ...,\n",
              "        [0.8275, 0.7608, 0.6353,  ..., 0.9529, 0.9569, 0.9569],\n",
              "        [0.8549, 0.8392, 0.7961,  ..., 0.9451, 0.9490, 0.9490],\n",
              "        [0.8510, 0.8471, 0.8471,  ..., 0.9333, 0.9373, 0.9412]],\n",
              "\n",
              "       [[0.8039, 0.8078, 0.8157,  ..., 0.8196, 0.8157, 0.8039],\n",
              "        [0.8196, 0.8196, 0.8275,  ..., 0.8353, 0.8275, 0.8157],\n",
              "        [0.8353, 0.8392, 0.8471,  ..., 0.8510, 0.8431, 0.8314],\n",
              "        ...,\n",
              "        [0.8275, 0.7569, 0.6353,  ..., 0.9451, 0.9529, 0.9529],\n",
              "        [0.8510, 0.8353, 0.8000,  ..., 0.9412, 0.9451, 0.9451],\n",
              "        [0.8471, 0.8431, 0.8431,  ..., 0.9294, 0.9333, 0.9333]],\n",
              "\n",
              "       [[0.7843, 0.7882, 0.7961,  ..., 0.7922, 0.7843, 0.7804],\n",
              "        [0.8000, 0.8039, 0.8118,  ..., 0.8118, 0.8039, 0.7922],\n",
              "        [0.8157, 0.8235, 0.8353,  ..., 0.8353, 0.8275, 0.8157],\n",
              "        ...,\n",
              "        [0.8431, 0.7765, 0.6471,  ..., 0.9647, 0.9686, 0.9686],\n",
              "        [0.8706, 0.8549, 0.8078,  ..., 0.9608, 0.9647, 0.9647],\n",
              "        [0.8667, 0.8627, 0.8588,  ..., 0.9490, 0.9529, 0.9529]]], )"
            ]
          },
          "metadata": {},
          "execution_count": 12
        }
      ],
      "source": [
        "temp_dataset[0][0]"
      ]
    },
    {
      "cell_type": "code",
      "execution_count": null,
      "metadata": {
        "id": "vQQO1zbQkD7g",
        "colab": {
          "base_uri": "https://localhost:8080/"
        },
        "outputId": "b5ea97a7-53e4-486e-807f-ff317faff688"
      },
      "outputs": [
        {
          "output_type": "stream",
          "name": "stdout",
          "text": [
            "Dataset size: 15000 images\n",
            "Number of classes: 3\n"
          ]
        }
      ],
      "source": [
        "# Get total number of samples in the dataset\n",
        "dataset_size = len(temp_dataset)\n",
        "print(f\"Dataset size: {dataset_size} images\")\n",
        "\n",
        "# Get number of classes\n",
        "num_classes = len(temp_dataset.classes)\n",
        "print(f\"Number of classes: {num_classes}\")"
      ]
    },
    {
      "cell_type": "markdown",
      "metadata": {
        "id": "Ux76052LkfbN"
      },
      "source": [
        "## Standardization"
      ]
    },
    {
      "cell_type": "code",
      "execution_count": null,
      "metadata": {
        "id": "IzGIrv-skgsw"
      },
      "outputs": [],
      "source": [
        "temp_loader = DataLoader(temp_dataset, batch_size=16)"
      ]
    },
    {
      "cell_type": "code",
      "execution_count": null,
      "metadata": {
        "id": "4NKZfXcckijN",
        "colab": {
          "base_uri": "https://localhost:8080/"
        },
        "outputId": "0eac08b8-cc56-4f79-d0ea-0342e73524c0"
      },
      "outputs": [
        {
          "output_type": "execute_result",
          "data": {
            "text/plain": [
              "tensor([[16.0000, 16.0000, 16.0000],\n",
              "        [ 7.9410,  8.3654,  8.4420],\n",
              "        [ 3.1684,  3.0491,  3.2941]])"
            ]
          },
          "metadata": {},
          "execution_count": 15
        }
      ],
      "source": [
        "# Each column represents a channel\n",
        "# first row is the number of data points\n",
        "# second row is the the sum of mean values\n",
        "# third row is the sum of standard deviations\n",
        "first_images, first_labels = next(iter(temp_loader))\n",
        "Architecture.statistics_per_channel(first_images, first_labels)"
      ]
    },
    {
      "cell_type": "code",
      "execution_count": null,
      "metadata": {
        "id": "rbYxGDjHkoqF",
        "colab": {
          "base_uri": "https://localhost:8080/"
        },
        "outputId": "f276ecde-0c9c-4f63-a2ec-9ebb8a4ff9c2"
      },
      "outputs": [
        {
          "output_type": "execute_result",
          "data": {
            "text/plain": [
              "tensor([[15000.0000, 15000.0000, 15000.0000],\n",
              "        [ 7438.2959,  7704.1758,  7956.8765],\n",
              "        [ 3008.9990,  2956.7046,  3079.8013]])"
            ]
          },
          "metadata": {},
          "execution_count": 16
        }
      ],
      "source": [
        "# We can leverage the loader_apply() method to get the sums for the whole dataset:\n",
        "results = Architecture.loader_apply(temp_loader, Architecture.statistics_per_channel)\n",
        "results"
      ]
    },
    {
      "cell_type": "code",
      "execution_count": null,
      "metadata": {
        "colab": {
          "base_uri": "https://localhost:8080/"
        },
        "id": "w41ZM0dzlMCg",
        "outputId": "4afdc8e2-bb5b-4f60-89f1-52bfc1364162"
      },
      "outputs": [
        {
          "output_type": "execute_result",
          "data": {
            "text/plain": [
              "Normalize(mean=[tensor(0.4959), tensor(0.5136), tensor(0.5305)], std=[tensor(0.2006), tensor(0.1971), tensor(0.2053)], inplace=False)"
            ]
          },
          "metadata": {},
          "execution_count": 17
        }
      ],
      "source": [
        "# we can compute the average mean value and the average standard deviation, per channel.\n",
        "# Better yet, let’s make it a method that takes a data loader and\n",
        "# returns an instance of the Normalize() transform\n",
        "normalizer = Architecture.make_normalizer(temp_loader)\n",
        "normalizer"
      ]
    },
    {
      "cell_type": "markdown",
      "metadata": {
        "id": "wsyIny3slQFD"
      },
      "source": [
        "## The Real Datasets"
      ]
    },
    {
      "cell_type": "code",
      "execution_count": null,
      "metadata": {
        "id": "eKVjtsuSlR-G"
      },
      "outputs": [],
      "source": [
        "# Define a pipeline of image transformations:\n",
        "# 1) Resize each image to 28×28 pixels\n",
        "# 2) Ensure the output is a PIL/torchvision image (dropping any alpha channel)\n",
        "# 3) Cast pixels to float32 and scale from [0–255] to [0.0–1.0]\n",
        "# 4) Apply the user-defined normalization (e.g., mean/std normalization)\n",
        "composer = Compose([\n",
        "    Resize(28),                         # Resize to 28×28\n",
        "    ToImage(),                          # Convert to PIL Image in RGB\n",
        "    ToDtype(torch.float32, scale=True), # Cast to float32 and normalize to [0,1]\n",
        "    normalizer                          # Apply custom normalization transform\n",
        "])\n",
        "\n",
        "# Instantiate training and validation datasets from folders:\n",
        "# - 'rps' contains subfolders per class for training\n",
        "# - 'rps-test-set' likewise for validation\n",
        "train_data = ImageFolder(root=path_train, transform=composer)\n",
        "val_data   = ImageFolder(root=path_test, transform=composer)\n",
        "\n",
        "# Wrap datasets in DataLoaders for batching and shuffling:\n",
        "# - batch_size=16 yields mini-batches of 16 images\n",
        "# - shuffle=True randomizes training order each epoch\n",
        "train_loader = DataLoader(train_data, batch_size=16, shuffle=True)\n",
        "val_loader   = DataLoader(val_data,   batch_size=16)  # no shuffle for validation"
      ]
    },
    {
      "cell_type": "code",
      "execution_count": null,
      "metadata": {
        "id": "iuCZ3qn6lgEq"
      },
      "outputs": [],
      "source": [
        "def figure2(first_images, first_labels):\n",
        "    fig, axs = plt.subplots(1, 6, figsize=(12, 4))\n",
        "    titles = ['Airplane', 'Automobile', 'Ship']\n",
        "    for i in range(6):\n",
        "        image, label = ToPILImage()(first_images[i]), first_labels[i]\n",
        "        axs[i].imshow(image)\n",
        "        axs[i].set_xticks([])\n",
        "        axs[i].set_yticks([])\n",
        "        axs[i].set_title(titles[label], fontsize=12)\n",
        "    fig.tight_layout()\n",
        "    return fig"
      ]
    },
    {
      "cell_type": "code",
      "execution_count": null,
      "metadata": {
        "colab": {
          "base_uri": "https://localhost:8080/"
        },
        "id": "mE4acRvMl0DX",
        "outputId": "37d8e6fd-aa33-4e86-d938-0c310d10dee7"
      },
      "outputs": [
        {
          "output_type": "display_data",
          "data": {
            "text/plain": [
              "<Figure size 1200x400 with 6 Axes>"
            ],
            "image/png": "[encoded data removed]"
          },
          "metadata": {}
        }
      ],
      "source": [
        "torch.manual_seed(88)\n",
        "first_images, first_labels = next(iter(train_loader))\n",
        "\n",
        "fig = figure2(first_images, first_labels)"
      ]
    },
    {
      "cell_type": "markdown",
      "source": [
        "# Learning Rate Analysis"
      ],
      "metadata": {
        "id": "_DBKZv_sNHbJ"
      }
    },
    {
      "cell_type": "markdown",
      "metadata": {
        "id": "UzyNVjv7NBV5"
      },
      "source": [
        "### Finding LR"
      ]
    },
    {
      "cell_type": "code",
      "execution_count": null,
      "metadata": {
        "id": "2TFzrOgLNBV5"
      },
      "outputs": [],
      "source": [
        "def make_lr_fn(start_lr, end_lr, num_iter, step_mode='exp'):\n",
        "    if step_mode == 'linear':\n",
        "        factor = (end_lr / start_lr - 1) / num_iter\n",
        "        def lr_fn(iteration):\n",
        "            return 1 + iteration * factor\n",
        "    else:\n",
        "        factor = (np.log(end_lr) - np.log(start_lr)) / num_iter\n",
        "        def lr_fn(iteration):\n",
        "            return np.exp(factor)**iteration\n",
        "    return lr_fn"
      ]
    },
    {
      "cell_type": "code",
      "execution_count": null,
      "metadata": {
        "id": "0eJby9rHNBV5"
      },
      "outputs": [],
      "source": [
        "start_lr = 0.01\n",
        "end_lr = 0.1\n",
        "num_iter = 10\n",
        "lr_fn = make_lr_fn(start_lr, end_lr, num_iter, step_mode='exp')"
      ]
    },
    {
      "cell_type": "code",
      "execution_count": null,
      "metadata": {
        "id": "xpM55oVFNBV5",
        "outputId": "ad21bcbd-4134-41b6-9b85-67de6fa7a8e4",
        "colab": {
          "base_uri": "https://localhost:8080/"
        }
      },
      "outputs": [
        {
          "output_type": "execute_result",
          "data": {
            "text/plain": [
              "array([ 1.        ,  1.25892541,  1.58489319,  1.99526231,  2.51188643,\n",
              "        3.16227766,  3.98107171,  5.01187234,  6.30957344,  7.94328235,\n",
              "       10.        ])"
            ]
          },
          "metadata": {},
          "execution_count": 23
        }
      ],
      "source": [
        "lr_fn(np.arange(num_iter + 1))"
      ]
    },
    {
      "cell_type": "code",
      "execution_count": null,
      "metadata": {
        "id": "gAV35BWUNBV5",
        "outputId": "66f7f649-05a9-48ce-8781-fd8054c38b69",
        "colab": {
          "base_uri": "https://localhost:8080/"
        }
      },
      "outputs": [
        {
          "output_type": "execute_result",
          "data": {
            "text/plain": [
              "array([0.01      , 0.01258925, 0.01584893, 0.01995262, 0.02511886,\n",
              "       0.03162278, 0.03981072, 0.05011872, 0.06309573, 0.07943282,\n",
              "       0.1       ])"
            ]
          },
          "metadata": {},
          "execution_count": 24
        }
      ],
      "source": [
        "start_lr * lr_fn(np.arange(num_iter + 1))"
      ]
    },
    {
      "cell_type": "code",
      "execution_count": null,
      "metadata": {
        "id": "SBs-ods7NBV5"
      },
      "outputs": [],
      "source": [
        "dummy_model = CNN2(n_feature=15, p=0.3)\n",
        "dummy_optimizer = optim.Adam(dummy_model.parameters(), lr=start_lr)\n",
        "dummy_scheduler = LambdaLR(dummy_optimizer, lr_lambda=lr_fn)"
      ]
    },
    {
      "cell_type": "code",
      "execution_count": null,
      "metadata": {
        "id": "jeH5ayvhNBV6"
      },
      "outputs": [],
      "source": [
        "dummy_optimizer.step()\n",
        "dummy_scheduler.step()"
      ]
    },
    {
      "cell_type": "code",
      "execution_count": null,
      "metadata": {
        "id": "7A4WYXFtNBV6",
        "outputId": "1f15da34-bc3d-46e0-db50-149b414e8c25",
        "colab": {
          "base_uri": "https://localhost:8080/"
        }
      },
      "outputs": [
        {
          "output_type": "execute_result",
          "data": {
            "text/plain": [
              "np.float64(0.012589254117941673)"
            ]
          },
          "metadata": {},
          "execution_count": 27
        }
      ],
      "source": [
        "dummy_scheduler.get_last_lr()[0]"
      ]
    },
    {
      "cell_type": "code",
      "source": [
        "try:\n",
        "    import google.colab\n",
        "    import requests\n",
        "    url = 'https://raw.githubusercontent.com/dvgodoy/PyTorchStepByStep/master/config.py'\n",
        "    r = requests.get(url, allow_redirects=True)\n",
        "    open('config.py', 'wb').write(r.content)\n",
        "except ModuleNotFoundError:\n",
        "    pass\n",
        "\n",
        "from config import *\n",
        "config_chapter6()\n",
        "# This is needed to render the plots in this chapter\n",
        "from plots.chapter6 import *"
      ],
      "metadata": {
        "colab": {
          "base_uri": "https://localhost:8080/"
        },
        "id": "IjpxDsxqNrvQ",
        "outputId": "836cd385-805d-43bc-f5a4-501edc5e719e"
      },
      "execution_count": null,
      "outputs": [
        {
          "output_type": "stream",
          "name": "stdout",
          "text": [
            "Downloading files from GitHub repo to Colab...\n",
            "Finished!\n"
          ]
        }
      ]
    },
    {
      "cell_type": "code",
      "execution_count": null,
      "metadata": {
        "id": "4e2XtQKHNBV6"
      },
      "outputs": [],
      "source": [
        "def lr_range_test(self, data_loader, end_lr, num_iter=100, step_mode='exp', alpha=0.05, ax=None):\n",
        "    # Since the test updates both model and optimizer we need to store\n",
        "    # their initial states to restore them in the end\n",
        "    previous_states = {'model': deepcopy(self.model.state_dict()),\n",
        "                       'optimizer': deepcopy(self.optimizer.state_dict())}\n",
        "    # Retrieves the learning rate set in the optimizer\n",
        "    start_lr = self.optimizer.state_dict()['param_groups'][0]['lr']\n",
        "\n",
        "    # Builds a custom function and corresponding scheduler\n",
        "    lr_fn = make_lr_fn(start_lr, end_lr, num_iter)\n",
        "    scheduler = LambdaLR(self.optimizer, lr_lambda=lr_fn)\n",
        "\n",
        "    # Variables for tracking results and iterations\n",
        "    tracking = {'loss': [], 'lr': []}\n",
        "    iteration = 0\n",
        "\n",
        "    # If there are more iterations than mini-batches in the data loader,\n",
        "    # it will have to loop over it more than once\n",
        "    while (iteration < num_iter):\n",
        "        # That's the typical mini-batch inner loop\n",
        "        for x_batch, y_batch in data_loader:\n",
        "            x_batch = x_batch.to(self.device)\n",
        "            y_batch = y_batch.to(self.device)\n",
        "            # Step 1\n",
        "            yhat = self.model(x_batch)\n",
        "            # Step 2\n",
        "            loss = self.loss_fn(yhat, y_batch)\n",
        "            # Step 3\n",
        "            loss.backward()\n",
        "\n",
        "            # Here we keep track of the losses (smoothed)\n",
        "            # and the learning rates\n",
        "            tracking['lr'].append(scheduler.get_last_lr()[0])\n",
        "            if iteration == 0:\n",
        "                tracking['loss'].append(loss.item())\n",
        "            else:\n",
        "                prev_loss = tracking['loss'][-1]\n",
        "                smoothed_loss = alpha * loss.item() + (1-alpha) * prev_loss\n",
        "                tracking['loss'].append(smoothed_loss)\n",
        "\n",
        "            iteration += 1\n",
        "            # Number of iterations reached\n",
        "            if iteration == num_iter:\n",
        "                break\n",
        "\n",
        "            # Step 4\n",
        "            self.optimizer.step()\n",
        "            scheduler.step()\n",
        "            self.optimizer.zero_grad()\n",
        "\n",
        "    # Restores the original states\n",
        "    self.optimizer.load_state_dict(previous_states['optimizer'])\n",
        "    self.model.load_state_dict(previous_states['model'])\n",
        "\n",
        "    if ax is None:\n",
        "        fig, ax = plt.subplots(1, 1, figsize=(6, 4))\n",
        "    else:\n",
        "        fig = ax.get_figure()\n",
        "    ax.plot(tracking['lr'], tracking['loss'])\n",
        "    if step_mode == 'exp':\n",
        "        ax.set_xscale('log')\n",
        "    ax.set_xlabel('Learning Rate')\n",
        "    ax.set_ylabel('Loss')\n",
        "    fig.tight_layout()\n",
        "    return tracking, fig\n",
        "\n",
        "setattr(StepByStep, 'lr_range_test', lr_range_test)"
      ]
    },
    {
      "cell_type": "code",
      "execution_count": null,
      "metadata": {
        "id": "AM5ODpZkNBV6"
      },
      "outputs": [],
      "source": [
        "torch.manual_seed(13)\n",
        "new_model = CNN2(n_feature=15, p=0.3)\n",
        "multi_loss_fn = nn.CrossEntropyLoss(reduction='mean')\n",
        "new_optimizer = optim.Adam(new_model.parameters(), lr=3e-4)"
      ]
    },
    {
      "cell_type": "code",
      "execution_count": null,
      "metadata": {
        "id": "ODJSK03fNBV6",
        "outputId": "98ae0a9b-82ca-482d-f2cc-728ce51a48ab",
        "colab": {
          "base_uri": "https://localhost:8080/",
          "height": 395
        }
      },
      "outputs": [
        {
          "output_type": "display_data",
          "data": {
            "text/plain": [
              "<Figure size 600x400 with 1 Axes>"
            ],
            "image/png": "[encoded data removed]"
          },
          "metadata": {}
        }
      ],
      "source": [
        "sbs_new = StepByStep(new_model, multi_loss_fn, new_optimizer)\n",
        "tracking, fig = sbs_new.lr_range_test(train_loader, end_lr=1e-1, num_iter=100)"
      ]
    },
    {
      "cell_type": "code",
      "execution_count": null,
      "metadata": {
        "id": "7sYC5dfINBV6"
      },
      "outputs": [],
      "source": [
        "def set_optimizer(self, optimizer):\n",
        "    self.optimizer = optimizer\n",
        "\n",
        "setattr(StepByStep, 'set_optimizer', set_optimizer)"
      ]
    },
    {
      "cell_type": "code",
      "execution_count": null,
      "metadata": {
        "id": "eEGNuw90NBV6"
      },
      "outputs": [],
      "source": [
        "new_optimizer = optim.Adam(new_model.parameters(), lr=0.005)\n",
        "sbs_new.set_optimizer(new_optimizer)\n",
        "sbs_new.set_loaders(train_loader, val_loader)\n",
        "sbs_new.train(10)"
      ]
    },
    {
      "cell_type": "code",
      "execution_count": null,
      "metadata": {
        "id": "pc-ievUaNBV6",
        "outputId": "0c217ca5-4cfc-4a38-9f6a-f527f2e685e3",
        "colab": {
          "base_uri": "https://localhost:8080/",
          "height": 395
        }
      },
      "outputs": [
        {
          "output_type": "display_data",
          "data": {
            "text/plain": [
              "<Figure size 1000x400 with 1 Axes>"
            ],
            "image/png": "[encoded data removed]"
          },
          "metadata": {}
        }
      ],
      "source": [
        "# This plot wasn't included in the book\n",
        "fig = sbs_new.plot_losses()"
      ]
    },
    {
      "cell_type": "markdown",
      "metadata": {
        "id": "3hes6LAMNBV7"
      },
      "source": [
        "### LRFinder"
      ]
    },
    {
      "cell_type": "code",
      "execution_count": null,
      "metadata": {
        "id": "PsiyL5xpNBV7",
        "colab": {
          "base_uri": "https://localhost:8080/"
        },
        "outputId": "7da5dbed-94bd-4362-b891-2fa6c739aad8"
      },
      "outputs": [
        {
          "output_type": "stream",
          "name": "stdout",
          "text": [
            "\u001b[2K   \u001b[90m━━━━━━━━━━━━━━━━━━━━━━━━━━━━━━━━━━━━━━━━\u001b[0m \u001b[32m363.4/363.4 MB\u001b[0m \u001b[31m3.4 MB/s\u001b[0m eta \u001b[36m0:00:00\u001b[0m\n",
            "\u001b[2K   \u001b[90m━━━━━━━━━━━━━━━━━━━━━━━━━━━━━━━━━━━━━━━━\u001b[0m \u001b[32m13.8/13.8 MB\u001b[0m \u001b[31m132.1 MB/s\u001b[0m eta \u001b[36m0:00:00\u001b[0m\n",
            "\u001b[2K   \u001b[90m━━━━━━━━━━━━━━━━━━━━━━━━━━━━━━━━━━━━━━━━\u001b[0m \u001b[32m24.6/24.6 MB\u001b[0m \u001b[31m107.0 MB/s\u001b[0m eta \u001b[36m0:00:00\u001b[0m\n",
            "\u001b[2K   \u001b[90m━━━━━━━━━━━━━━━━━━━━━━━━━━━━━━━━━━━━━━━━\u001b[0m \u001b[32m883.7/883.7 kB\u001b[0m \u001b[31m63.3 MB/s\u001b[0m eta \u001b[36m0:00:00\u001b[0m\n",
            "\u001b[2K   \u001b[90m━━━━━━━━━━━━━━━━━━━━━━━━━━━━━━━━━━━━━━━━\u001b[0m \u001b[32m664.8/664.8 MB\u001b[0m \u001b[31m2.1 MB/s\u001b[0m eta \u001b[36m0:00:00\u001b[0m\n",
            "\u001b[2K   \u001b[90m━━━━━━━━━━━━━━━━━━━━━━━━━━━━━━━━━━━━━━━━\u001b[0m \u001b[32m211.5/211.5 MB\u001b[0m \u001b[31m4.9 MB/s\u001b[0m eta \u001b[36m0:00:00\u001b[0m\n",
            "\u001b[2K   \u001b[90m━━━━━━━━━━━━━━━━━━━━━━━━━━━━━━━━━━━━━━━━\u001b[0m \u001b[32m56.3/56.3 MB\u001b[0m \u001b[31m44.0 MB/s\u001b[0m eta \u001b[36m0:00:00\u001b[0m\n",
            "\u001b[2K   \u001b[90m━━━━━━━━━━━━━━━━━━━━━━━━━━━━━━━━━━━━━━━━\u001b[0m \u001b[32m127.9/127.9 MB\u001b[0m \u001b[31m19.9 MB/s\u001b[0m eta \u001b[36m0:00:00\u001b[0m\n",
            "\u001b[2K   \u001b[90m━━━━━━━━━━━━━━━━━━━━━━━━━━━━━━━━━━━━━━━━\u001b[0m \u001b[32m207.5/207.5 MB\u001b[0m \u001b[31m4.3 MB/s\u001b[0m eta \u001b[36m0:00:00\u001b[0m\n",
            "\u001b[2K   \u001b[90m━━━━━━━━━━━━━━━━━━━━━━━━━━━━━━━━━━━━━━━━\u001b[0m \u001b[32m21.1/21.1 MB\u001b[0m \u001b[31m104.2 MB/s\u001b[0m eta \u001b[36m0:00:00\u001b[0m\n",
            "\u001b[?25h"
          ]
        }
      ],
      "source": [
        "!pip install --quiet torch-lr-finder\n",
        "from torch_lr_finder import LRFinder"
      ]
    },
    {
      "cell_type": "code",
      "execution_count": null,
      "metadata": {
        "id": "9-M_2XYuNBV7",
        "outputId": "949a6b56-01ba-4006-9380-e27b6fcfa8bc",
        "colab": {
          "referenced_widgets": [
            "e17557f849d74a6083e152c6cdcd87d4",
            "fe04e564f013430f92c5c73804f57097",
            "bc894b1906ef412b92c9d16b9a34c563",
            "ceedd9f637354a42972dcec30b2af477",
            "fa1c38e558154154a400b6fffec1009a",
            "ced04275661249c48b80b7008ca59ebf",
            "70bcff81563d42ea9e1ca47e6e2ea7c5",
            "d7454b377d144e5887d001ecaffcbf11",
            "6eea28ca241a4bcfa55a60bd9b0d9667",
            "a2b2f7ceca5943e4b969d5d984de002b",
            "cb938e363e5b4290af334272b343010b"
          ],
          "base_uri": "https://localhost:8080/",
          "height": 479
        }
      },
      "outputs": [
        {
          "output_type": "display_data",
          "data": {
            "text/plain": [
              "  0%|          | 0/100 [00:00<?, ?it/s]"
            ],
            "application/vnd.jupyter.widget-view+json": {
              "version_major": 2,
              "version_minor": 0,
              "model_id": "e17557f849d74a6083e152c6cdcd87d4"
            }
          },
          "metadata": {}
        },
        {
          "output_type": "stream",
          "name": "stdout",
          "text": [
            "Learning rate search finished. See the graph with {finder_name}.plot()\n",
            "LR suggestion: steepest gradient\n",
            "Suggested LR: 4.21E-03\n"
          ]
        },
        {
          "output_type": "display_data",
          "data": {
            "text/plain": [
              "<Figure size 600x400 with 1 Axes>"
            ],
            "image/png": "[encoded data removed]"
          },
          "metadata": {}
        }
      ],
      "source": [
        "fig, ax = plt.subplots(1, 1, figsize=(6, 4))\n",
        "\n",
        "torch.manual_seed(11)\n",
        "new_model = CNN2(n_feature=15, p=0.3)\n",
        "multi_loss_fn = nn.CrossEntropyLoss(reduction='mean')\n",
        "new_optimizer = optim.Adam(new_model.parameters(), lr=3e-4)\n",
        "device = 'cuda' if torch.cuda.is_available() else 'cpu'\n",
        "\n",
        "lr_finder = LRFinder(new_model, new_optimizer, multi_loss_fn, device=device)\n",
        "lr_finder.range_test(train_loader, end_lr=1e-1, num_iter=100)\n",
        "lr_finder.plot(ax=ax, log_lr=True)\n",
        "\n",
        "fig.tight_layout()\n",
        "lr_finder.reset()"
      ]
    },
    {
      "cell_type": "markdown",
      "source": [
        "# Model with New Learning Rate"
      ],
      "metadata": {
        "id": "emr6kCnQgO9t"
      }
    },
    {
      "cell_type": "code",
      "source": [
        "# New learning rate after lr_finder analysis\n",
        "new_lr = 4.21e-3"
      ],
      "metadata": {
        "id": "aRQE_7J_hGas"
      },
      "execution_count": null,
      "outputs": []
    },
    {
      "cell_type": "code",
      "source": [
        "torch.manual_seed(13)\n",
        "\n",
        "# Model/Architecture\n",
        "model_cnn4 = CNN2(n_feature=15, p=0.3)\n",
        "\n",
        "# Loss function\n",
        "multi_loss_fn = nn.CrossEntropyLoss(reduction='mean')\n",
        "\n",
        "# Optimizer\n",
        "optimizer_cnn4 = optim.Adam(model_cnn4.parameters(), lr=new_lr)"
      ],
      "metadata": {
        "id": "HxEXapK2gRNw"
      },
      "execution_count": null,
      "outputs": []
    },
    {
      "cell_type": "markdown",
      "source": [
        "### Model Training"
      ],
      "metadata": {
        "id": "GENAiZjYsrae"
      }
    },
    {
      "cell_type": "code",
      "execution_count": null,
      "metadata": {
        "colab": {
          "base_uri": "https://localhost:8080/"
        },
        "outputId": "69de1215-155d-40b9-f53a-f7a0f1041e17",
        "id": "_spCr27Esrae"
      },
      "outputs": [
        {
          "output_type": "stream",
          "name": "stdout",
          "text": [
            "Epoch 1/30 - Training Loss: 0.8378\n",
            "Epoch 1/30 - Validation Loss: 0.6643\n",
            "Epoch 2/30 - Training Loss: 0.7127\n",
            "Epoch 2/30 - Validation Loss: 0.5938\n",
            "Epoch 3/30 - Training Loss: 0.6669\n",
            "Epoch 3/30 - Validation Loss: 0.5265\n",
            "Epoch 4/30 - Training Loss: 0.6383\n",
            "Epoch 4/30 - Validation Loss: 0.5439\n",
            "Epoch 5/30 - Training Loss: 0.6279\n",
            "Epoch 5/30 - Validation Loss: 0.5649\n",
            "Epoch 6/30 - Training Loss: 0.6055\n",
            "Epoch 6/30 - Validation Loss: 0.5220\n",
            "Epoch 7/30 - Training Loss: 0.5820\n",
            "Epoch 7/30 - Validation Loss: 0.4870\n",
            "Epoch 8/30 - Training Loss: 0.5654\n",
            "Epoch 8/30 - Validation Loss: 0.4680\n",
            "Epoch 9/30 - Training Loss: 0.5606\n",
            "Epoch 9/30 - Validation Loss: 0.5031\n",
            "Epoch 10/30 - Training Loss: 0.5411\n",
            "Epoch 10/30 - Validation Loss: 0.4874\n",
            "Epoch 11/30 - Training Loss: 0.5368\n",
            "Epoch 11/30 - Validation Loss: 0.4619\n",
            "Epoch 12/30 - Training Loss: 0.5317\n",
            "Epoch 12/30 - Validation Loss: 0.4945\n",
            "Epoch 13/30 - Training Loss: 0.5228\n",
            "Epoch 13/30 - Validation Loss: 0.4726\n",
            "Epoch 14/30 - Training Loss: 0.5196\n",
            "Epoch 14/30 - Validation Loss: 0.4493\n",
            "Epoch 15/30 - Training Loss: 0.5200\n",
            "Epoch 15/30 - Validation Loss: 0.4146\n",
            "Epoch 16/30 - Training Loss: 0.5011\n",
            "Epoch 16/30 - Validation Loss: 0.4358\n",
            "Epoch 17/30 - Training Loss: 0.5158\n",
            "Epoch 17/30 - Validation Loss: 0.4470\n",
            "Epoch 18/30 - Training Loss: 0.5002\n",
            "Epoch 18/30 - Validation Loss: 0.4216\n",
            "Epoch 19/30 - Training Loss: 0.4987\n",
            "Epoch 19/30 - Validation Loss: 0.4102\n",
            "Epoch 20/30 - Training Loss: 0.5080\n",
            "Epoch 20/30 - Validation Loss: 0.4308\n",
            "Epoch 21/30 - Training Loss: 0.4968\n",
            "Epoch 21/30 - Validation Loss: 0.4378\n",
            "Epoch 22/30 - Training Loss: 0.4954\n",
            "Epoch 22/30 - Validation Loss: 0.4156\n",
            "Epoch 23/30 - Training Loss: 0.4859\n",
            "Epoch 23/30 - Validation Loss: 0.4091\n",
            "Epoch 24/30 - Training Loss: 0.4883\n",
            "Epoch 24/30 - Validation Loss: 0.4462\n",
            "Epoch 25/30 - Training Loss: 0.4722\n",
            "Epoch 25/30 - Validation Loss: 0.3779\n",
            "Epoch 26/30 - Training Loss: 0.4702\n",
            "Epoch 26/30 - Validation Loss: 0.4316\n",
            "Epoch 27/30 - Training Loss: 0.4792\n",
            "Epoch 27/30 - Validation Loss: 0.4500\n",
            "Epoch 28/30 - Training Loss: 0.4799\n",
            "Epoch 28/30 - Validation Loss: 0.4337\n",
            "Epoch 29/30 - Training Loss: 0.4716\n",
            "Epoch 29/30 - Validation Loss: 0.5050\n",
            "Epoch 30/30 - Training Loss: 0.4752\n",
            "Epoch 30/30 - Validation Loss: 0.4121\n"
          ]
        }
      ],
      "source": [
        "arch_cnn4 = Architecture(model_cnn4,\n",
        "                        multi_loss_fn,\n",
        "                        optimizer_cnn4)\n",
        "arch_cnn4.set_loaders(train_loader, val_loader)\n",
        "arch_cnn4.train(30)"
      ]
    },
    {
      "cell_type": "code",
      "execution_count": null,
      "metadata": {
        "id": "pRSmZ1iksrae",
        "colab": {
          "base_uri": "https://localhost:8080/"
        },
        "outputId": "c5baf0c3-d0fa-4e0f-cc05-fc5319fa0d6b"
      },
      "outputs": [
        {
          "output_type": "execute_result",
          "data": {
            "text/plain": [
              "21413"
            ]
          },
          "metadata": {},
          "execution_count": 40
        }
      ],
      "source": [
        "arch_cnn4.count_parameters()"
      ]
    },
    {
      "cell_type": "code",
      "execution_count": null,
      "metadata": {
        "id": "rel6gZQVsrae",
        "colab": {
          "base_uri": "https://localhost:8080/",
          "height": 395
        },
        "outputId": "94880a12-bf49-41d4-e618-e74bf78c967b"
      },
      "outputs": [
        {
          "output_type": "display_data",
          "data": {
            "text/plain": [
              "<Figure size 1000x400 with 1 Axes>"
            ],
            "image/png": "[encoded data removed]"
          },
          "metadata": {}
        }
      ],
      "source": [
        "fig = arch_cnn4.plot_losses()"
      ]
    },
    {
      "cell_type": "markdown",
      "source": [
        "### Model Evaluation"
      ],
      "metadata": {
        "id": "oXUWiyNIsrae"
      }
    },
    {
      "cell_type": "markdown",
      "metadata": {
        "id": "wkMcdMz1srae"
      },
      "source": [
        "#### Accuracy"
      ]
    },
    {
      "cell_type": "code",
      "execution_count": null,
      "metadata": {
        "id": "VZae1KVVsrae",
        "colab": {
          "base_uri": "https://localhost:8080/"
        },
        "outputId": "55345f4c-850c-4831-9165-fc3c536e90e2"
      },
      "outputs": [
        {
          "output_type": "execute_result",
          "data": {
            "text/plain": [
              "tensor([[ 789, 1000],\n",
              "        [ 873, 1000],\n",
              "        [ 862, 1000]])"
            ]
          },
          "metadata": {},
          "execution_count": 42
        }
      ],
      "source": [
        "Architecture.loader_apply(val_loader,\n",
        "                          arch_cnn4.correct)"
      ]
    },
    {
      "cell_type": "code",
      "execution_count": null,
      "metadata": {
        "id": "V7amW7fjsrae",
        "colab": {
          "base_uri": "https://localhost:8080/"
        },
        "outputId": "7145de51-2271-4502-e47b-4fae80244120"
      },
      "outputs": [
        {
          "output_type": "execute_result",
          "data": {
            "text/plain": [
              "tensor([2524, 3000])"
            ]
          },
          "metadata": {},
          "execution_count": 43
        }
      ],
      "source": [
        "Architecture.loader_apply(val_loader,\n",
        "                          arch_cnn4.correct).sum(axis=0)"
      ]
    },
    {
      "cell_type": "code",
      "execution_count": null,
      "metadata": {
        "id": "9_Doi7SFsrae",
        "colab": {
          "base_uri": "https://localhost:8080/"
        },
        "outputId": "6f80ff84-d3c4-41b8-85c9-4ad27dbebe0e"
      },
      "outputs": [
        {
          "output_type": "execute_result",
          "data": {
            "text/plain": [
              "0.8413333333333334"
            ]
          },
          "metadata": {},
          "execution_count": 44
        }
      ],
      "source": [
        "(lambda x: x[0].item() / x[1].item())(Architecture.loader_apply(val_loader,\n",
        "                                                                arch_cnn4.correct).sum(axis=0))"
      ]
    },
    {
      "cell_type": "markdown",
      "metadata": {
        "id": "18xcJF6msraf"
      },
      "source": [
        "#### Confusion Matrix"
      ]
    },
    {
      "cell_type": "code",
      "execution_count": null,
      "metadata": {
        "id": "JrB8yp3esraf",
        "colab": {
          "base_uri": "https://localhost:8080/",
          "height": 605
        },
        "outputId": "eb0fa9bb-3091-4a61-f1c0-65d111fefa6e"
      },
      "outputs": [
        {
          "output_type": "display_data",
          "data": {
            "text/plain": [
              "<Figure size 800x600 with 2 Axes>"
            ],
            "image/png": "[encoded data removed]"
          },
          "metadata": {}
        }
      ],
      "source": [
        "class_names = train_data.classes # Get class names from the training dataset\n",
        "plot_confusion_matrix(arch_cnn4, val_loader, class_names)"
      ]
    },
    {
      "cell_type": "markdown",
      "source": [
        "### Saving model"
      ],
      "metadata": {
        "id": "vdyaYdmpjD3h"
      }
    },
    {
      "cell_type": "code",
      "source": [
        "# Salvar o modelo treinado\n",
        "arch_cnn4.save_checkpoint('lr_analysis_model.pth')"
      ],
      "metadata": {
        "id": "smVGQl7pjHG2"
      },
      "execution_count": null,
      "outputs": []
    }
  ],
  "metadata": {
    "accelerator": "GPU",
    "colab": {
      "gpuType": "T4",
      "machine_shape": "hm",
      "provenance": [],
      "collapsed_sections": [
        "rbPSBVjDdJB1",
        "d0zbtOV2Vblr",
        "wMOSAvOYK5j8",
        "WJuYyEONjIfs",
        "Ux76052LkfbN"
      ]
    },
    "kernelspec": {
      "display_name": "Python 3",
      "name": "python3"
    },
    "language_info": {
      "name": "python"
    },
    "widgets": {
      "application/vnd.jupyter.widget-state+json": {
        "e17557f849d74a6083e152c6cdcd87d4": {
          "model_module": "@jupyter-widgets/controls",
          "model_name": "HBoxModel",
          "model_module_version": "1.5.0",
          "state": {
            "_dom_classes": [],
            "_model_module": "@jupyter-widgets/controls",
            "_model_module_version": "1.5.0",
            "_model_name": "HBoxModel",
            "_view_count": null,
            "_view_module": "@jupyter-widgets/controls",
            "_view_module_version": "1.5.0",
            "_view_name": "HBoxView",
            "box_style": "",
            "children": [
              "IPY_MODEL_fe04e564f013430f92c5c73804f57097",
              "IPY_MODEL_bc894b1906ef412b92c9d16b9a34c563",
              "IPY_MODEL_ceedd9f637354a42972dcec30b2af477"
            ],
            "layout": "IPY_MODEL_fa1c38e558154154a400b6fffec1009a"
          }
        },
        "fe04e564f013430f92c5c73804f57097": {
          "model_module": "@jupyter-widgets/controls",
          "model_name": "HTMLModel",
          "model_module_version": "1.5.0",
          "state": {
            "_dom_classes": [],
            "_model_module": "@jupyter-widgets/controls",
            "_model_module_version": "1.5.0",
            "_model_name": "HTMLModel",
            "_view_count": null,
            "_view_module": "@jupyter-widgets/controls",
            "_view_module_version": "1.5.0",
            "_view_name": "HTMLView",
            "description": "",
            "description_tooltip": null,
            "layout": "IPY_MODEL_ced04275661249c48b80b7008ca59ebf",
            "placeholder": "​",
            "style": "IPY_MODEL_70bcff81563d42ea9e1ca47e6e2ea7c5",
            "value": "100%"
          }
        },
        "bc894b1906ef412b92c9d16b9a34c563": {
          "model_module": "@jupyter-widgets/controls",
          "model_name": "FloatProgressModel",
          "model_module_version": "1.5.0",
          "state": {
            "_dom_classes": [],
            "_model_module": "@jupyter-widgets/controls",
            "_model_module_version": "1.5.0",
            "_model_name": "FloatProgressModel",
            "_view_count": null,
            "_view_module": "@jupyter-widgets/controls",
            "_view_module_version": "1.5.0",
            "_view_name": "ProgressView",
            "bar_style": "success",
            "description": "",
            "description_tooltip": null,
            "layout": "IPY_MODEL_d7454b377d144e5887d001ecaffcbf11",
            "max": 100,
            "min": 0,
            "orientation": "horizontal",
            "style": "IPY_MODEL_6eea28ca241a4bcfa55a60bd9b0d9667",
            "value": 100
          }
        },
        "ceedd9f637354a42972dcec30b2af477": {
          "model_module": "@jupyter-widgets/controls",
          "model_name": "HTMLModel",
          "model_module_version": "1.5.0",
          "state": {
            "_dom_classes": [],
            "_model_module": "@jupyter-widgets/controls",
            "_model_module_version": "1.5.0",
            "_model_name": "HTMLModel",
            "_view_count": null,
            "_view_module": "@jupyter-widgets/controls",
            "_view_module_version": "1.5.0",
            "_view_name": "HTMLView",
            "description": "",
            "description_tooltip": null,
            "layout": "IPY_MODEL_a2b2f7ceca5943e4b969d5d984de002b",
            "placeholder": "​",
            "style": "IPY_MODEL_cb938e363e5b4290af334272b343010b",
            "value": " 100/100 [00:01&lt;00:00, 81.13it/s]"
          }
        },
        "fa1c38e558154154a400b6fffec1009a": {
          "model_module": "@jupyter-widgets/base",
          "model_name": "LayoutModel",
          "model_module_version": "1.2.0",
          "state": {
            "_model_module": "@jupyter-widgets/base",
            "_model_module_version": "1.2.0",
            "_model_name": "LayoutModel",
            "_view_count": null,
            "_view_module": "@jupyter-widgets/base",
            "_view_module_version": "1.2.0",
            "_view_name": "LayoutView",
            "align_content": null,
            "align_items": null,
            "align_self": null,
            "border": null,
            "bottom": null,
            "display": null,
            "flex": null,
            "flex_flow": null,
            "grid_area": null,
            "grid_auto_columns": null,
            "grid_auto_flow": null,
            "grid_auto_rows": null,
            "grid_column": null,
            "grid_gap": null,
            "grid_row": null,
            "grid_template_areas": null,
            "grid_template_columns": null,
            "grid_template_rows": null,
            "height": null,
            "justify_content": null,
            "justify_items": null,
            "left": null,
            "margin": null,
            "max_height": null,
            "max_width": null,
            "min_height": null,
            "min_width": null,
            "object_fit": null,
            "object_position": null,
            "order": null,
            "overflow": null,
            "overflow_x": null,
            "overflow_y": null,
            "padding": null,
            "right": null,
            "top": null,
            "visibility": null,
            "width": null
          }
        },
        "ced04275661249c48b80b7008ca59ebf": {
          "model_module": "@jupyter-widgets/base",
          "model_name": "LayoutModel",
          "model_module_version": "1.2.0",
          "state": {
            "_model_module": "@jupyter-widgets/base",
            "_model_module_version": "1.2.0",
            "_model_name": "LayoutModel",
            "_view_count": null,
            "_view_module": "@jupyter-widgets/base",
            "_view_module_version": "1.2.0",
            "_view_name": "LayoutView",
            "align_content": null,
            "align_items": null,
            "align_self": null,
            "border": null,
            "bottom": null,
            "display": null,
            "flex": null,
            "flex_flow": null,
            "grid_area": null,
            "grid_auto_columns": null,
            "grid_auto_flow": null,
            "grid_auto_rows": null,
            "grid_column": null,
            "grid_gap": null,
            "grid_row": null,
            "grid_template_areas": null,
            "grid_template_columns": null,
            "grid_template_rows": null,
            "height": null,
            "justify_content": null,
            "justify_items": null,
            "left": null,
            "margin": null,
            "max_height": null,
            "max_width": null,
            "min_height": null,
            "min_width": null,
            "object_fit": null,
            "object_position": null,
            "order": null,
            "overflow": null,
            "overflow_x": null,
            "overflow_y": null,
            "padding": null,
            "right": null,
            "top": null,
            "visibility": null,
            "width": null
          }
        },
        "70bcff81563d42ea9e1ca47e6e2ea7c5": {
          "model_module": "@jupyter-widgets/controls",
          "model_name": "DescriptionStyleModel",
          "model_module_version": "1.5.0",
          "state": {
            "_model_module": "@jupyter-widgets/controls",
            "_model_module_version": "1.5.0",
            "_model_name": "DescriptionStyleModel",
            "_view_count": null,
            "_view_module": "@jupyter-widgets/base",
            "_view_module_version": "1.2.0",
            "_view_name": "StyleView",
            "description_width": ""
          }
        },
        "d7454b377d144e5887d001ecaffcbf11": {
          "model_module": "@jupyter-widgets/base",
          "model_name": "LayoutModel",
          "model_module_version": "1.2.0",
          "state": {
            "_model_module": "@jupyter-widgets/base",
            "_model_module_version": "1.2.0",
            "_model_name": "LayoutModel",
            "_view_count": null,
            "_view_module": "@jupyter-widgets/base",
            "_view_module_version": "1.2.0",
            "_view_name": "LayoutView",
            "align_content": null,
            "align_items": null,
            "align_self": null,
            "border": null,
            "bottom": null,
            "display": null,
            "flex": null,
            "flex_flow": null,
            "grid_area": null,
            "grid_auto_columns": null,
            "grid_auto_flow": null,
            "grid_auto_rows": null,
            "grid_column": null,
            "grid_gap": null,
            "grid_row": null,
            "grid_template_areas": null,
            "grid_template_columns": null,
            "grid_template_rows": null,
            "height": null,
            "justify_content": null,
            "justify_items": null,
            "left": null,
            "margin": null,
            "max_height": null,
            "max_width": null,
            "min_height": null,
            "min_width": null,
            "object_fit": null,
            "object_position": null,
            "order": null,
            "overflow": null,
            "overflow_x": null,
            "overflow_y": null,
            "padding": null,
            "right": null,
            "top": null,
            "visibility": null,
            "width": null
          }
        },
        "6eea28ca241a4bcfa55a60bd9b0d9667": {
          "model_module": "@jupyter-widgets/controls",
          "model_name": "ProgressStyleModel",
          "model_module_version": "1.5.0",
          "state": {
            "_model_module": "@jupyter-widgets/controls",
            "_model_module_version": "1.5.0",
            "_model_name": "ProgressStyleModel",
            "_view_count": null,
            "_view_module": "@jupyter-widgets/base",
            "_view_module_version": "1.2.0",
            "_view_name": "StyleView",
            "bar_color": null,
            "description_width": ""
          }
        },
        "a2b2f7ceca5943e4b969d5d984de002b": {
          "model_module": "@jupyter-widgets/base",
          "model_name": "LayoutModel",
          "model_module_version": "1.2.0",
          "state": {
            "_model_module": "@jupyter-widgets/base",
            "_model_module_version": "1.2.0",
            "_model_name": "LayoutModel",
            "_view_count": null,
            "_view_module": "@jupyter-widgets/base",
            "_view_module_version": "1.2.0",
            "_view_name": "LayoutView",
            "align_content": null,
            "align_items": null,
            "align_self": null,
            "border": null,
            "bottom": null,
            "display": null,
            "flex": null,
            "flex_flow": null,
            "grid_area": null,
            "grid_auto_columns": null,
            "grid_auto_flow": null,
            "grid_auto_rows": null,
            "grid_column": null,
            "grid_gap": null,
            "grid_row": null,
            "grid_template_areas": null,
            "grid_template_columns": null,
            "grid_template_rows": null,
            "height": null,
            "justify_content": null,
            "justify_items": null,
            "left": null,
            "margin": null,
            "max_height": null,
            "max_width": null,
            "min_height": null,
            "min_width": null,
            "object_fit": null,
            "object_position": null,
            "order": null,
            "overflow": null,
            "overflow_x": null,
            "overflow_y": null,
            "padding": null,
            "right": null,
            "top": null,
            "visibility": null,
            "width": null
          }
        },
        "cb938e363e5b4290af334272b343010b": {
          "model_module": "@jupyter-widgets/controls",
          "model_name": "DescriptionStyleModel",
          "model_module_version": "1.5.0",
          "state": {
            "_model_module": "@jupyter-widgets/controls",
            "_model_module_version": "1.5.0",
            "_model_name": "DescriptionStyleModel",
            "_view_count": null,
            "_view_module": "@jupyter-widgets/base",
            "_view_module_version": "1.2.0",
            "_view_name": "StyleView",
            "description_width": ""
          }
        }
      }
    }
  },
  "nbformat": 4,
  "nbformat_minor": 0
}